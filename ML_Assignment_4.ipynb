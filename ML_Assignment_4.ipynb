{
 "cells": [
  {
   "cell_type": "markdown",
   "id": "162f53a1-d297-4781-81a0-95c35c29bc22",
   "metadata": {},
   "source": [
    "Q 1.What are the key tasks involved in getting ready to work with machine learning modeling?\n",
    "# Answer ...\n",
    "There are several key tasks involved in getting ready to work with machine learning modeling:\n",
    "\n",
    "1. Defining the problem: The first step is to define the problem you want to solve.\n",
    "2. Gathering data: You need to collect data that is relevant to the problem you want to solve. This data should be clean, accurate, and representative of the population you are trying to model.\n",
    "3. Preprocessing data: The data you collect may need to be preprocessed before it can be used in machine learning models. This may involve tasks such as cleaning, filtering, and transforming data into a suitable format.\n",
    "4. Exploratory data analysis (EDA): EDA is a process of understanding the data that you have collected. It involves analyzing the data to identify patterns, trends, and relationships, as well as detecting outliers and missing values.\n",
    "5. Feature selection and engineering: Once you have analyzed the data, you need to select the most relevant features to use in your machine learning models. \n",
    "6. Selecting a model: There are several machine learning models to choose from, including supervised, unsupervised, and reinforcement learning models. \n",
    "7. Training and testing: You need to train your model on a portion of the data and test it on a separate portion to evaluate its performance.\n",
    "8. Deployment: Once you have trained and tested your model, you can deploy it in a production environment. This may involve integrating it into an existing system or building a new system around it."
   ]
  },
  {
   "cell_type": "code",
   "execution_count": null,
   "id": "d3727ed4-fc15-46c8-bf54-e382f51acc19",
   "metadata": {},
   "outputs": [],
   "source": []
  },
  {
   "cell_type": "markdown",
   "id": "64e1e531-e94f-4005-abb9-4342ad65258a",
   "metadata": {},
   "source": [
    "Q 2.What are the different forms of data used in machine learning? Give a specific example for each of\n",
    "them.\n",
    "# Answer ...\n",
    "\n",
    "There are generally three types of data used in machine learning:\n",
    "\n",
    "1. Numerical data: Numerical data includes quantitative values such as integers and real numbers. This type of data is often used in regression analysis, where the goal is to predict a continuous output. An example of numerical data is the height and weight of people.\n",
    "2. Categorical data: Categorical data includes discrete values that represent specific categories. This type of data is often used in classification tasks, where the goal is to assign data points to one of several predefined classes. An example of categorical data is the color of a fruit (e.g. red, green, yellow).\n",
    "3. Text data: Text data includes unstructured data such as sentences, paragraphs, and documents. This type of data is often used in natural language processing (NLP) tasks, such as sentiment analysis and language translation. An example of text data is customer reviews of a product.\n",
    "\n",
    "Here are specific examples for each type of data:\n",
    "\n",
    "1. Numerical data: Suppose you want to predict the price of a house based on its size in square feet. In this case, the size of the house is numerical data.\n",
    "\n",
    "2. Categorical data: Suppose you want to classify whether an email is spam or not. In this case, the presence or absence of certain keywords in the email (e.g. \"viagra\", \"lottery\", \"free\") is categorical data.\n",
    "\n",
    "3. Text data: Suppose you want to analyze customer reviews of a product to determine whether they are positive or negative. In this case, the text of the reviews is text data."
   ]
  },
  {
   "cell_type": "code",
   "execution_count": null,
   "id": "e92b477c-929e-4590-9d42-469e0dc04020",
   "metadata": {},
   "outputs": [],
   "source": []
  },
  {
   "cell_type": "markdown",
   "id": "d17c8006-28c3-4e47-a136-1a848ee24cd3",
   "metadata": {},
   "source": [
    "Q 3.Distinguish:\n",
    "\n",
    "1. Numeric vs. categorical attributes\n",
    "\n",
    "2. Feature selection vs. dimensionality reduction\n",
    "# Answer ...\n",
    "\n",
    "1. Numeric vs. categorical attributes:\n",
    "\n",
    "Numeric attributes are quantitative values such as integers or real numbers that can be measured mathematically. Examples of numeric attributes include age, height, weight, and income. \n",
    "Categorical attributes, on the other hand, are discrete values that represent specific categories or classes. Examples of categorical attributes include gender, color, nationality, and occupation. \n",
    "\n",
    "In summary, numeric attributes involve quantitative measurements, while categorical attributes involve discrete categories.\n",
    "\n",
    "2. Feature selection vs. dimensionality reduction:\n",
    "\n",
    "Feature selection and dimensionality reduction are both techniques used to reduce the number of features in a dataset, but they achieve this goal in different ways.\n",
    "Feature selection involves selecting a subset of the original features that are most relevant to the problem being solved. This is typically done by evaluating the importance of each feature and selecting only the most informative ones.\n",
    "Dimensionality reduction, on the other hand, involves transforming the original features into a lower-dimensional space while preserving as much of the variance in the data as possible. This is typically done by applying techniques such as principal component analysis (PCA) or t-distributed stochastic neighbor embedding (t-SNE).\n",
    "\n",
    "In summary, feature selection involves selecting a subset of the original features, while dimensionality reduction involves transforming the original features into a lower-dimensional space."
   ]
  },
  {
   "cell_type": "code",
   "execution_count": null,
   "id": "12c68226-a920-4341-8995-2bf1f22e8f75",
   "metadata": {},
   "outputs": [],
   "source": []
  },
  {
   "cell_type": "markdown",
   "id": "f002d3e0-589a-4cf1-b544-0c26f8cc8238",
   "metadata": {},
   "source": [
    "Q 4.Make quick notes on any two of the following:\n",
    "\n",
    "1. The histogram\n",
    "\n",
    "2. Use a scatter plot\n",
    "\n",
    "3. PCA (Personal Computer Aid)\n",
    "# Answer ...\n",
    "\n",
    "1. The histogram:\n",
    "\n",
    "A histogram is a graphical representation of the distribution of a continuous variable. It consists of a series of adjacent bars, where each bar represents a range of values and the height of the bar represents the frequency of occurrence of values within that range. Histograms are useful for visualizing the shape of a distribution, identifying outliers, and determining whether the data is skewed or normally distributed.\n",
    "\n",
    "2. Use a scatter plot:\n",
    "\n",
    "A scatter plot is a graphical representation of the relationship between two variables. Each point on the plot represents a pair of values, one for each variable. Scatter plots are useful for visualizing patterns in the data, identifying outliers, and detecting correlations between variables. They can also be used to identify nonlinear relationships between variables, such as quadratic or exponential relationships.\n"
   ]
  },
  {
   "cell_type": "code",
   "execution_count": null,
   "id": "090a5880-e2c7-400a-8c1e-9cdfa6d128e0",
   "metadata": {},
   "outputs": [],
   "source": []
  },
  {
   "cell_type": "markdown",
   "id": "53df24cf-cdae-42a8-ba48-9740f9abfce0",
   "metadata": {},
   "source": [
    "Q 5.Why is it necessary to investigate data? Is there a discrepancy in how qualitative and quantitative\n",
    "data are explored?\n",
    "# Answer ...\n",
    "It is necessary to investigate data to gain a deeper understanding of the underlying patterns, relationships, and trends in the data. \n",
    "Exploring data also helps to generate insights, test hypotheses, and inform decision-making processes. By visualizing and summarizing the data, we can identify patterns and trends that may not be immediately apparent, and we can generate new hypotheses for further investigation.\n",
    "Qualitative data is typically explored through methods such as content analysis, thematic analysis, or grounded theory, which involve identifying patterns and themes in the data and developing a rich and detailed understanding of the phenomenon being studied. Quantitative data, on the other hand, is typically explored through statistical methods such as descriptive statistics, correlation analysis, or regression analysis, which involve summarizing the data and testing hypotheses about the relationships between variables.\n",
    "\n",
    "In summary, while both qualitative and quantitative data require investigation and exploration, the methods used to explore them differ based on the nature of the data and the research questions being addressed."
   ]
  },
  {
   "cell_type": "code",
   "execution_count": null,
   "id": "4e7356cb-62ca-4291-9333-18f23b45695b",
   "metadata": {},
   "outputs": [],
   "source": []
  },
  {
   "cell_type": "markdown",
   "id": "0caa28b3-ba9e-4140-9746-a585cded9e95",
   "metadata": {},
   "source": [
    "Q 6.What are the various histogram shapes? What exactly are ‘bins&#39;?\n",
    "# Answer ...\n",
    "\n",
    "There are several common histogram shapes that can be observed in data:\n",
    "\n",
    "1. Normal distribution: This is the most common shape, and it appears as a bell curve. The data is symmetrical and centered around the mean.\n",
    "\n",
    "2. Skewed distribution: A skewed distribution occurs when the data is not symmetrical. If the tail of the distribution is longer on the left, it is called a negative skew, and if it is longer on the right, it is called a positive skew.\n",
    "\n",
    "3. Bimodal distribution: A bimodal distribution has two peaks, indicating that the data is composed of two distinct groups.\n",
    "\n",
    "Bins are the intervals or ranges of values that the data is divided into in a histogram. Bins are used to group the data into discrete intervals, and each interval is represented by a bar in the histogram. The width of the bin determines the range of values that will be grouped together in that bin. The number of bins used in a histogram can affect the shape of the distribution and the level of detail in the visualization. "
   ]
  },
  {
   "cell_type": "code",
   "execution_count": null,
   "id": "277c337c-3597-4cf8-a539-5a7aacd9c531",
   "metadata": {},
   "outputs": [],
   "source": []
  },
  {
   "cell_type": "markdown",
   "id": "7f3a9988-ddd9-4182-836b-77dce94f608b",
   "metadata": {},
   "source": [
    "Q 7.How do we deal with data outliers?\n",
    "# Answer ...\n",
    "\n",
    "Here are some common methods for dealing with outliers:\n",
    "\n",
    "* Removal: One way to deal with outliers is to simply remove them from the dataset. However, this approach should be used with caution, as removing too many outliers can result in loss of valuable information and potential bias in the dataset.\n",
    "\n",
    "* Imputation: Another approach is to impute the missing values with the mean, median, or mode of the data. This approach assumes that the outliers are the result of measurement errors, and that they do not represent a true signal in the data.\n",
    "\n",
    "* Winsorization: Winsorization involves replacing the extreme values with less extreme values. This can be done by setting the extreme values to a fixed percentile of the data, such as the 95th percentile.\n",
    "\n",
    "* Transformation: Transforming the data can also be effective in dealing with outliers. One common transformation is to take the logarithm of the data, which can help to reduce the impact of extreme values.\n",
    "\n",
    "It is important to note that the choice of method for dealing with outliers will depend on the specific characteristics of the data and the goals of the analysis."
   ]
  },
  {
   "cell_type": "code",
   "execution_count": null,
   "id": "64e5ed33-3a1a-4d88-bde0-fa1867a6c844",
   "metadata": {},
   "outputs": [],
   "source": []
  },
  {
   "cell_type": "markdown",
   "id": "cd4b66c7-269b-45d4-a39e-069d3c9fdf68",
   "metadata": {},
   "source": [
    "Q 8.What are the various central inclination measures? Why does mean vary too much from median in\n",
    "certain data sets?\n",
    "# Answer ...\n",
    "\n",
    "Central tendency measures are used to describe the center of a dataset. The three most commonly used measures of central tendency are the mean, median, and mode.\n",
    "\n",
    "* Mean: The mean is the sum of all the values in the dataset divided by the number of values. It is sensitive to outliers and can be heavily influenced by extreme values in the dataset.\n",
    "\n",
    "* Median: The median is the middle value of a dataset when it is ordered from lowest to highest. It is less sensitive to outliers than the mean and is a better measure of central tendency when the dataset contains extreme values.\n",
    "\n",
    "* Mode: The mode is the most frequently occurring value in a dataset. It is useful for datasets with categorical or discrete variables.\n",
    "\n",
    "In summary, the choice of a central tendency measure depends on the characteristics of the data, including the presence of outliers and the distribution of the data. It is important to use the appropriate measure to accurately represent the center of the dataset."
   ]
  },
  {
   "cell_type": "code",
   "execution_count": null,
   "id": "ce7bf29b-7618-4a70-8818-e9985bce09fa",
   "metadata": {},
   "outputs": [],
   "source": []
  },
  {
   "cell_type": "markdown",
   "id": "a97c10af-4741-4e57-8a42-b0b197fa8af2",
   "metadata": {},
   "source": [
    "Q 9.Describe how a scatter plot can be used to investigate bivariate relationships. Is it possible to find\n",
    "outliers using a scatter plot?\n",
    "# Answer ...\n",
    "A scatter plot can be used to investigate several aspects of a bivariate relationship, including:\n",
    "\n",
    "* Correlation: The scatter plot can reveal the strength and direction of the correlation between the two variables. If the points on the scatter plot form a pattern that slopes upward from left to right, then the variables are said to have a positive correlation. \n",
    "\n",
    "* Outliers: A scatter plot can also be used to identify outliers, which are data points that are significantly different from the other data points in the dataset. Outliers appear as points that are far away from the general pattern of points on the scatter plot.\n",
    "\n",
    "* Form of the relationship: The scatter plot can also reveal the form of the relationship between the two variables, such as whether it is linear or non-linear.\n",
    "\n",
    "In summary, a scatter plot is a useful tool for investigating bivariate relationships, as it provides a visual representation of the relationship between two variables."
   ]
  },
  {
   "cell_type": "code",
   "execution_count": null,
   "id": "314aae2b-fdee-48d9-a784-5c725c7ff0bf",
   "metadata": {},
   "outputs": [],
   "source": []
  },
  {
   "cell_type": "markdown",
   "id": "d7294cb5-b07d-438c-897e-f2e9cc451bd6",
   "metadata": {},
   "source": [
    "Q 10.Describe how cross-tabs can be used to figure out how two variables are related.\n",
    "# Answer ...\n",
    "\n",
    "Cross-tabulation (also known as contingency table or crosstab) is a statistical technique that is used to analyze the relationship between two categorical variables. It involves constructing a table with rows and columns that represent the categories of the two variables being studied.\n",
    "\n",
    "Cross-tabs are useful for identifying patterns and relationships between variables that may not be immediately obvious. They allow us to answer questions such as:\n",
    "\n",
    " * Are two categorical variables related or independent of each other?\n",
    " * If they are related, what is the strength of the relationship and in what direction does it lie?\n",
    " \n",
    "For example, suppose we want to determine whether there is a relationship between gender and educational attainment. We could construct a cross-tabulation table with gender as the row variable and educational attainment as the column variable. \n",
    "\n",
    "In summary, cross-tabulation is a useful technique for analyzing the relationship between two categorical variables. It provides a quick and easy way to identify patterns and relationships that may not be immediately obvious, allowing researchers to draw meaningful conclusions about the data."
   ]
  },
  {
   "cell_type": "code",
   "execution_count": null,
   "id": "901f1a8e-c86a-4bc9-9190-b16dd390dbce",
   "metadata": {},
   "outputs": [],
   "source": []
  }
 ],
 "metadata": {
  "kernelspec": {
   "display_name": "Python 3 (ipykernel)",
   "language": "python",
   "name": "python3"
  },
  "language_info": {
   "codemirror_mode": {
    "name": "ipython",
    "version": 3
   },
   "file_extension": ".py",
   "mimetype": "text/x-python",
   "name": "python",
   "nbconvert_exporter": "python",
   "pygments_lexer": "ipython3",
   "version": "3.10.6"
  }
 },
 "nbformat": 4,
 "nbformat_minor": 5
}
